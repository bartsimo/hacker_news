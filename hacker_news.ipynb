{
 "cells": [
  {
   "attachments": {},
   "cell_type": "markdown",
   "metadata": {},
   "source": [
    "# Data Analysis of Hacker News Website\n",
    "\n",
    "This notebook analyzes posts on Hacker News. The data can be found [here](https://www.kaggle.com/datasets/hacker-news/hacker-news-posts). The data set contains one year of posts up to September 26, 2016.\n",
    "\n",
    "## Goals\n",
    "Analyze the comments below posts."
   ]
  },
  {
   "attachments": {},
   "cell_type": "markdown",
   "metadata": {},
   "source": [
    "### Setup"
   ]
  },
  {
   "cell_type": "code",
   "execution_count": 2,
   "metadata": {},
   "outputs": [
    {
     "name": "stdout",
     "output_type": "stream",
     "text": [
      "/home/simon/Schreibtisch/dataquest/hacker_news\n"
     ]
    }
   ],
   "source": [
    "# Make data import from path easy on any machine \n",
    "\n",
    "import os\n",
    "from config.definitions import ROOT_DIR\n",
    "# print(os.path.join(ROOT_DIR, \"data\", \"HN_posts_year_to_Sep_26_2016.csv\"))\n",
    "path = os.path.join(ROOT_DIR, \"data\", \"HN_posts_year_to_Sep_26_2016.csv\")"
   ]
  },
  {
   "attachments": {},
   "cell_type": "markdown",
   "metadata": {},
   "source": [
    "Read in the data:"
   ]
  },
  {
   "cell_type": "code",
   "execution_count": 3,
   "metadata": {},
   "outputs": [],
   "source": [
    "import csv\n",
    "with open(path) as hacker_news:\n",
    "    hacker_texts = csv.reader(hacker_news)\n",
    "    hn = list(hacker_texts)\n"
   ]
  },
  {
   "attachments": {},
   "cell_type": "markdown",
   "metadata": {},
   "source": [
    "Inspection of first five rows:"
   ]
  },
  {
   "cell_type": "code",
   "execution_count": 4,
   "metadata": {},
   "outputs": [
    {
     "name": "stdout",
     "output_type": "stream",
     "text": [
      "[['id', 'title', 'url', 'num_points', 'num_comments', 'author', 'created_at'], ['12579008', 'You have two days to comment if you want stem cells to be classified as your own', 'http://www.regulations.gov/document?D=FDA-2015-D-3719-0018', '1', '0', 'altstar', '9/26/2016 3:26'], ['12579005', 'SQLAR  the SQLite Archiver', 'https://www.sqlite.org/sqlar/doc/trunk/README.md', '1', '0', 'blacksqr', '9/26/2016 3:24'], ['12578997', 'What if we just printed a flatscreen television on the side of our boxes?', 'https://medium.com/vanmoof/our-secrets-out-f21c1f03fdc8#.ietxmez43', '1', '0', 'pavel_lishin', '9/26/2016 3:19'], ['12578989', 'algorithmic music', 'http://cacm.acm.org/magazines/2011/7/109891-algorithmic-composition/fulltext', '1', '0', 'poindontcare', '9/26/2016 3:16']]\n"
     ]
    }
   ],
   "source": [
    "print(hn[:5])"
   ]
  },
  {
   "attachments": {},
   "cell_type": "markdown",
   "metadata": {},
   "source": [
    "We analyze what drives comments below posts. In a first step, we get an understanding of the distribution of comments below posts."
   ]
  },
  {
   "cell_type": "code",
   "execution_count": 5,
   "metadata": {},
   "outputs": [
    {
     "name": "stdout",
     "output_type": "stream",
     "text": [
      "{0: 212718, 1: 28055, 2: 9731, 3: 5016, 4: 3272, 5: 2208, 6: 1787, 7: 1390, 8: 1115, 9: 1064, 10: 962, 11: 846, 12: 726, 13: 631, 14: 626, 15: 560, 16: 550, 17: 514, 18: 524, 19: 485, 20: 435, 21: 448, 22: 396, 23: 348, 24: 375, 25: 343, 26: 355, 27: 320, 28: 302, 29: 290, 30: 309, 31: 271, 32: 315, 33: 260, 34: 230, 35: 273, 36: 229, 37: 262, 38: 234, 39: 244, 40: 238, 41: 239, 42: 235, 43: 239, 44: 233, 45: 253, 46: 211, 47: 212, 48: 212, 49: 213, 50: 215, 51: 204, 52: 218, 53: 207, 54: 192, 55: 197, 56: 186, 57: 186, 58: 179, 59: 192, 60: 168, 61: 154, 62: 182, 63: 163, 64: 164, 65: 157, 66: 162, 67: 149, 68: 147, 69: 166, 70: 135, 71: 131, 72: 135, 73: 119, 74: 115, 75: 139, 76: 114, 77: 131, 78: 104, 79: 109, 80: 116, 81: 114, 82: 106, 83: 113, 84: 120, 85: 99, 86: 93, 87: 106, 88: 89, 89: 84, 90: 94, 91: 88, 92: 93, 93: 85, 94: 90, 95: 79, 96: 86, 97: 61, 98: 79, 99: 83, 100: 76, 101: 68, 102: 59, 103: 66, 104: 68, 105: 76, 106: 68, 107: 59, 108: 67, 109: 75, 110: 63, 111: 53, 112: 56, 113: 51, 114: 50, 115: 52, 116: 54, 117: 42, 118: 41, 119: 70, 120: 50, 121: 41, 122: 39, 123: 41, 124: 53, 125: 36, 126: 41, 127: 56, 128: 42, 129: 52, 130: 52, 131: 52, 132: 47, 133: 40, 134: 29, 135: 44, 136: 41, 137: 38, 138: 45, 139: 41, 140: 34, 141: 24, 142: 33, 143: 27, 144: 36, 145: 51, 146: 40, 147: 41, 148: 29, 149: 35, 150: 26, 151: 32, 152: 34, 153: 35, 154: 34, 155: 37, 156: 27, 157: 38, 158: 25, 159: 28, 160: 29, 161: 18, 162: 29, 163: 24, 164: 32, 165: 30, 166: 29, 167: 27, 168: 30, 169: 33, 170: 28, 171: 31, 172: 15, 173: 25, 174: 29, 175: 27, 176: 19, 177: 19, 178: 16, 179: 18, 180: 30, 181: 23, 182: 19, 183: 19, 184: 23, 185: 10, 186: 25, 187: 26, 188: 28, 189: 21, 190: 12, 191: 18, 192: 18, 193: 18, 194: 19, 195: 17, 196: 14, 197: 22, 198: 16, 199: 21, 200: 16, 201: 12, 202: 20, 203: 18, 204: 21, 205: 18, 206: 15, 207: 10, 208: 13, 209: 22, 210: 13, 211: 18, 212: 13, 213: 15, 214: 7, 215: 11, 216: 18, 217: 11, 218: 11, 219: 16, 220: 9, 221: 11, 222: 11, 223: 19, 224: 12, 225: 7, 226: 12, 227: 11, 228: 13, 229: 18, 230: 6, 231: 7, 232: 25, 233: 14, 234: 13, 235: 12, 236: 6, 237: 14, 238: 8, 239: 10, 240: 13, 241: 9, 242: 11, 243: 7, 244: 10, 245: 6, 246: 13, 247: 4, 248: 11, 249: 10, 250: 12, 251: 9, 252: 10, 253: 5, 254: 5, 255: 12, 256: 5, 257: 9, 258: 6, 259: 9, 260: 5, 261: 7, 262: 10, 263: 5, 264: 4, 265: 2, 266: 12, 267: 7, 268: 9, 269: 6, 270: 5, 271: 3, 272: 7, 273: 6, 274: 8, 275: 5, 276: 4, 277: 4, 278: 3, 279: 8, 280: 9, 281: 7, 282: 7, 283: 5, 284: 5, 285: 2, 286: 3, 287: 5, 288: 5, 289: 4, 290: 6, 291: 2, 292: 3, 293: 2, 294: 8, 295: 4, 296: 4, 297: 6, 298: 6, 299: 7, 300: 1, 301: 6, 302: 5, 303: 4, 304: 5, 305: 2, 306: 3, 307: 5, 308: 4, 309: 5, 310: 3, 311: 8, 312: 2, 313: 6, 314: 7, 315: 2, 316: 5, 317: 5, 318: 6, 319: 3, 320: 2, 321: 4, 322: 4, 323: 7, 324: 3, 325: 2, 326: 5, 327: 5, 328: 1, 329: 1, 330: 3, 331: 4, 332: 3, 333: 5, 334: 2, 335: 2, 336: 5, 337: 3, 338: 5, 339: 6, 340: 4, 341: 5, 342: 3, 343: 3, 344: 1, 345: 1, 346: 3, 347: 2, 348: 6, 349: 1, 350: 1, 351: 6, 352: 3, 353: 2, 354: 2, 355: 1, 356: 4, 357: 1, 358: 3, 359: 7, 360: 1, 361: 3, 362: 4, 363: 1, 364: 6, 365: 4, 367: 2, 368: 2, 369: 1, 370: 3, 371: 2, 372: 2, 373: 1, 374: 2, 375: 1, 376: 6, 377: 1, 379: 3, 380: 1, 381: 8, 383: 3, 384: 2, 385: 3, 386: 3, 387: 3, 388: 1, 389: 3, 390: 4, 391: 1, 392: 4, 393: 2, 397: 3, 398: 3, 400: 2, 401: 2, 403: 2, 405: 1, 406: 1, 407: 2, 408: 2, 409: 1, 410: 1, 412: 2, 413: 2, 414: 1, 417: 1, 418: 1, 419: 2, 420: 3, 422: 1, 423: 3, 424: 2, 425: 1, 426: 1, 427: 1, 428: 2, 429: 2, 430: 2, 431: 4, 432: 4, 433: 1, 434: 1, 435: 3, 437: 3, 438: 1, 439: 2, 441: 1, 442: 1, 443: 1, 444: 1, 445: 1, 446: 1, 447: 1, 448: 3, 449: 3, 450: 1, 451: 1, 452: 1, 453: 2, 454: 1, 455: 1, 456: 1, 457: 2, 458: 2, 460: 1, 461: 2, 462: 3, 463: 1, 464: 1, 465: 1, 467: 1, 471: 1, 472: 1, 475: 1, 476: 1, 477: 2, 479: 2, 481: 1, 483: 2, 484: 1, 485: 1, 486: 1, 490: 1, 491: 1, 492: 1, 494: 1, 495: 2, 499: 2, 502: 4, 503: 1, 504: 2, 508: 1, 509: 1, 511: 2, 512: 1, 513: 3, 514: 2, 515: 2, 516: 1, 517: 1, 519: 2, 520: 1, 521: 1, 526: 1, 529: 1, 534: 1, 536: 1, 539: 1, 544: 1, 547: 1, 548: 1, 550: 1, 552: 2, 555: 1, 558: 1, 565: 1, 567: 1, 568: 2, 569: 1, 573: 1, 581: 1, 582: 1, 583: 1, 586: 1, 599: 1, 608: 1, 618: 1, 624: 1, 626: 1, 631: 1, 635: 1, 644: 1, 650: 1, 660: 1, 672: 1, 677: 1, 685: 1, 691: 1, 695: 1, 704: 1, 705: 2, 716: 1, 720: 1, 726: 1, 760: 2, 767: 1, 778: 1, 781: 1, 809: 1, 825: 1, 831: 1, 842: 1, 854: 1, 868: 1, 870: 1, 893: 1, 896: 1, 898: 1, 910: 1, 937: 1, 947: 1, 967: 1, 973: 1, 1007: 1, 1120: 1, 1448: 1, 1733: 1, 2531: 1}\n",
      "293119\n"
     ]
    }
   ],
   "source": [
    "comments_freq = {}\n",
    "\n",
    "for row in hn[1:]:\n",
    "    comment = row[4]\n",
    "    if comment not in comments_freq:\n",
    "        comments_freq[comment] = 1\n",
    "    else:\n",
    "        comments_freq[comment] += 1\n",
    "\n",
    "comments_freq_int = {int(key):value for key, value in comments_freq.items()}\n",
    "comments_freq_sorted = dict(sorted(comments_freq_int.items()))\n",
    "print(comments_freq_sorted)\n",
    "\n",
    "total_comments = sum(comments_freq_sorted.values())\n",
    "print(total_comments)"
   ]
  },
  {
   "attachments": {},
   "cell_type": "markdown",
   "metadata": {},
   "source": [
    "What is the share of posts that received 0 comments?"
   ]
  },
  {
   "cell_type": "code",
   "execution_count": 7,
   "metadata": {},
   "outputs": [
    {
     "name": "stdout",
     "output_type": "stream",
     "text": [
      "0.7257052596385768\n"
     ]
    }
   ],
   "source": [
    "share_zero_comments = comments_freq[\"0\"] / total_comments\n",
    "print(share_zero_comments)"
   ]
  },
  {
   "attachments": {},
   "cell_type": "markdown",
   "metadata": {},
   "source": [
    "Let's visualize the share of posts with and without comments:"
   ]
  },
  {
   "cell_type": "code",
   "execution_count": 14,
   "metadata": {},
   "outputs": [
    {
     "data": {
      "image/png": "[encoded data removed]",
      "text/plain": [
       "<Figure size 640x480 with 1 Axes>"
      ]
     },
     "metadata": {},
     "output_type": "display_data"
    }
   ],
   "source": [
    "import seaborn as sns\n",
    "import matplotlib.pyplot as plt\n",
    "\n",
    "data = [('Share 0 comments', share_zero_comments), ('Share > 0 comments', (1 - share_zero_comments))]\n",
    "\n",
    "sns.barplot(x=[x[0] for x in data], y=[x[1] for x in data], errorbar=None)\n",
    "\n",
    "plt.xlabel('')\n",
    "plt.ylabel('Share')\n",
    "plt.title('Share of 0 comments under posts')\n",
    "plt.show()"
   ]
  },
  {
   "attachments": {},
   "cell_type": "markdown",
   "metadata": {},
   "source": [
    "In what follows we will focus on the analysis of posts that have received comments. To this end we select the appropriate data and save it as a new variable."
   ]
  },
  {
   "cell_type": "code",
   "execution_count": null,
   "metadata": {},
   "outputs": [],
   "source": []
  }
 ],
 "metadata": {
  "kernelspec": {
   "display_name": "Python 3",
   "language": "python",
   "name": "python3"
  },
  "language_info": {
   "codemirror_mode": {
    "name": "ipython",
    "version": 3
   },
   "file_extension": ".py",
   "mimetype": "text/x-python",
   "name": "python",
   "nbconvert_exporter": "python",
   "pygments_lexer": "ipython3",
   "version": "3.10.8"
  },
  "orig_nbformat": 4,
  "vscode": {
   "interpreter": {
    "hash": "a9048a4781ef117dc2fca08a87638db37a171c7881d45fa17eaa3ddb57dac290"
   }
  }
 },
 "nbformat": 4,
 "nbformat_minor": 2
}
